{
  "nbformat": 4,
  "nbformat_minor": 0,
  "metadata": {
    "colab": {
      "provenance": [],
      "authorship_tag": "ABX9TyMabaJJaIjnI8wgMFAT0Kec",
      "include_colab_link": true
    },
    "kernelspec": {
      "name": "python3",
      "display_name": "Python 3"
    },
    "language_info": {
      "name": "python"
    }
  },
  "cells": [
    {
      "cell_type": "markdown",
      "metadata": {
        "id": "view-in-github",
        "colab_type": "text"
      },
      "source": [
        "<a href=\"https://colab.research.google.com/github/ppriyanshu26/Colab/blob/main/Basic%20NLP%20Techniques/SpaCy.ipynb\" target=\"_parent\"><img src=\"https://colab.research.google.com/assets/colab-badge.svg\" alt=\"Open In Colab\"/></a>"
      ]
    },
    {
      "cell_type": "code",
      "execution_count": 1,
      "metadata": {
        "colab": {
          "base_uri": "https://localhost:8080/"
        },
        "id": "1959lj499bXL",
        "outputId": "567b8f98-6e15-4ac9-c83c-fffc0b20664c"
      },
      "outputs": [
        {
          "output_type": "stream",
          "name": "stdout",
          "text": [
            "Collecting en-core-web-sm==3.8.0\n",
            "  Downloading https://github.com/explosion/spacy-models/releases/download/en_core_web_sm-3.8.0/en_core_web_sm-3.8.0-py3-none-any.whl (12.8 MB)\n",
            "\u001b[2K     \u001b[90m━━━━━━━━━━━━━━━━━━━━━━━━━━━━━━━━━━━━━━━━\u001b[0m \u001b[32m12.8/12.8 MB\u001b[0m \u001b[31m82.9 MB/s\u001b[0m eta \u001b[36m0:00:00\u001b[0m\n",
            "\u001b[?25h\u001b[38;5;2m✔ Download and installation successful\u001b[0m\n",
            "You can now load the package via spacy.load('en_core_web_sm')\n",
            "\u001b[38;5;3m⚠ Restart to reload dependencies\u001b[0m\n",
            "If you are in a Jupyter or Colab notebook, you may need to restart Python in\n",
            "order to load all the package's dependencies. You can do this by selecting the\n",
            "'Restart kernel' or 'Restart runtime' option.\n"
          ]
        }
      ],
      "source": [
        "# import modules\n",
        "\n",
        "import spacy\n",
        "\n",
        "!python -m spacy download en_core_web_sm"
      ]
    },
    {
      "cell_type": "code",
      "source": [
        "# Load Package\n",
        "\n",
        "nlp = spacy.load(\"en_core_web_sm\")"
      ],
      "metadata": {
        "id": "j81na1NI9kJ4"
      },
      "execution_count": 2,
      "outputs": []
    },
    {
      "cell_type": "code",
      "source": [
        "# Tokenization\n",
        "\n",
        "text = \"SpaCy is an amazing python library. Lets study about tokenization.\"\n",
        "doc = nlp(text)\n",
        "\n",
        "print(\"Tokens:\")\n",
        "for token in doc:\n",
        "    print(token.text)"
      ],
      "metadata": {
        "colab": {
          "base_uri": "https://localhost:8080/"
        },
        "id": "XnZRyeHx_CFU",
        "outputId": "759a4e08-6ac5-45f7-e9bc-ab92f17e430a"
      },
      "execution_count": 3,
      "outputs": [
        {
          "output_type": "stream",
          "name": "stdout",
          "text": [
            "Tokens:\n",
            "SpaCy\n",
            "is\n",
            "an\n",
            "amazing\n",
            "python\n",
            "library\n",
            ".\n",
            "Lets\n",
            "study\n",
            "about\n",
            "tokenization\n",
            ".\n"
          ]
        }
      ]
    },
    {
      "cell_type": "code",
      "source": [
        "# POS Tagging\n",
        "\n",
        "text = \"The quick brown fox jumps over the lazy dog.\"\n",
        "doc = nlp(text)\n",
        "\n",
        "print(f\"{'Token':<15}{'POS':<10}{'TAG':<7}{'Explanation'}\")\n",
        "print(\"-\"*60)\n",
        "for i in doc:\n",
        "    print(f\"{i.text:<15}{i.pos_:<10}{i.tag_:<7}{spacy.explain(i.tag_)}\")"
      ],
      "metadata": {
        "colab": {
          "base_uri": "https://localhost:8080/"
        },
        "id": "SHTNrpMy_kKK",
        "outputId": "e9ef6611-cee4-4585-9871-73b17c8e516a"
      },
      "execution_count": 4,
      "outputs": [
        {
          "output_type": "stream",
          "name": "stdout",
          "text": [
            "Token          POS       TAG    Explanation\n",
            "------------------------------------------------------------\n",
            "The            DET       DT     determiner\n",
            "quick          ADJ       JJ     adjective (English), other noun-modifier (Chinese)\n",
            "brown          ADJ       JJ     adjective (English), other noun-modifier (Chinese)\n",
            "fox            NOUN      NN     noun, singular or mass\n",
            "jumps          VERB      VBZ    verb, 3rd person singular present\n",
            "over           ADP       IN     conjunction, subordinating or preposition\n",
            "the            DET       DT     determiner\n",
            "lazy           ADJ       JJ     adjective (English), other noun-modifier (Chinese)\n",
            "dog            NOUN      NN     noun, singular or mass\n",
            ".              PUNCT     .      punctuation mark, sentence closer\n"
          ]
        }
      ]
    },
    {
      "cell_type": "code",
      "source": [
        "# Dependency Parsing\n",
        "\n",
        "text = \"The quick brown fox jumps over the lazy dog.\"\n",
        "doc = nlp(text)\n",
        "\n",
        "print(f\"{'Token':<12}{'Head':<12}{'Dep':<15}{'POS':<7}{'Explanation'}\")\n",
        "print(\"-\"*70)\n",
        "for i in doc:\n",
        "    print(f\"{i.text:<12}{i.head.text:<12}{i.dep_:<15}{i.pos_:<7}{spacy.explain(i.tag_)}\")"
      ],
      "metadata": {
        "colab": {
          "base_uri": "https://localhost:8080/"
        },
        "id": "OXJDxN51DNDn",
        "outputId": "8200268a-c870-4b31-9562-7bcd82b3e61f"
      },
      "execution_count": 5,
      "outputs": [
        {
          "output_type": "stream",
          "name": "stdout",
          "text": [
            "Token       Head        Dep            POS    Explanation\n",
            "----------------------------------------------------------------------\n",
            "The         fox         det            DET    determiner\n",
            "quick       fox         amod           ADJ    adjective (English), other noun-modifier (Chinese)\n",
            "brown       fox         amod           ADJ    adjective (English), other noun-modifier (Chinese)\n",
            "fox         jumps       nsubj          NOUN   noun, singular or mass\n",
            "jumps       jumps       ROOT           VERB   verb, 3rd person singular present\n",
            "over        jumps       prep           ADP    conjunction, subordinating or preposition\n",
            "the         dog         det            DET    determiner\n",
            "lazy        dog         amod           ADJ    adjective (English), other noun-modifier (Chinese)\n",
            "dog         over        pobj           NOUN   noun, singular or mass\n",
            ".           jumps       punct          PUNCT  punctuation mark, sentence closer\n"
          ]
        }
      ]
    },
    {
      "cell_type": "code",
      "source": [
        "# Lemmatization\n",
        "\n",
        "text = \"The children are running faster and better than yesterday.\"\n",
        "doc = nlp(text)\n",
        "\n",
        "print(f\"{'Token':<12}{'Lemma':<12}{'POS':<7}{'Explanation'}\")\n",
        "print(\"-\"*50)\n",
        "for i in doc:\n",
        "    print(f\"{i.text:<12}{i.lemma_:<12}{i.pos_:<7}{spacy.explain(i.tag_)}\")"
      ],
      "metadata": {
        "colab": {
          "base_uri": "https://localhost:8080/"
        },
        "id": "Jsft0B4tF31a",
        "outputId": "e177a1b7-e631-4ad1-c60c-a3768fadb8aa"
      },
      "execution_count": 6,
      "outputs": [
        {
          "output_type": "stream",
          "name": "stdout",
          "text": [
            "Token       Lemma       POS    Explanation\n",
            "--------------------------------------------------\n",
            "The         the         DET    determiner\n",
            "children    child       NOUN   noun, plural\n",
            "are         be          AUX    verb, non-3rd person singular present\n",
            "running     run         VERB   verb, gerund or present participle\n",
            "faster      fast        ADV    adverb, comparative\n",
            "and         and         CCONJ  conjunction, coordinating\n",
            "better      well        ADV    adverb, comparative\n",
            "than        than        ADP    conjunction, subordinating or preposition\n",
            "yesterday   yesterday   NOUN   noun, singular or mass\n",
            ".           .           PUNCT  punctuation mark, sentence closer\n"
          ]
        }
      ]
    },
    {
      "cell_type": "code",
      "source": [
        "# NER\n",
        "\n",
        "text = \"Apple was founded by Steve Jobs and is headquartered in California.\"\n",
        "doc = nlp(text)\n",
        "\n",
        "print(f\"{'Entitiy':<25}{'Label':<15}{'Explanation'}\")\n",
        "print(\"-\"*70)\n",
        "for i in doc.ents:\n",
        "    print(f\"{i.text:<25}{i.label_:<15}{spacy.explain(i.label_)}\")"
      ],
      "metadata": {
        "colab": {
          "base_uri": "https://localhost:8080/"
        },
        "id": "JgMfSOxUIMby",
        "outputId": "68c6c907-966c-48ca-f883-c6d4600e0065"
      },
      "execution_count": 7,
      "outputs": [
        {
          "output_type": "stream",
          "name": "stdout",
          "text": [
            "Entitiy                  Label          Explanation\n",
            "----------------------------------------------------------------------\n",
            "Apple                    ORG            Companies, agencies, institutions, etc.\n",
            "Steve Jobs               PERSON         People, including fictional\n",
            "California               GPE            Countries, cities, states\n"
          ]
        }
      ]
    }
  ]
}