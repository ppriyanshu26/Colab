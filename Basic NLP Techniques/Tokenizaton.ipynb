{
  "nbformat": 4,
  "nbformat_minor": 0,
  "metadata": {
    "colab": {
      "provenance": [],
      "authorship_tag": "ABX9TyOfc8P+k4KYWNe9djYLBGuC",
      "include_colab_link": true
    },
    "kernelspec": {
      "name": "python3",
      "display_name": "Python 3"
    },
    "language_info": {
      "name": "python"
    }
  },
  "cells": [
    {
      "cell_type": "markdown",
      "metadata": {
        "id": "view-in-github",
        "colab_type": "text"
      },
      "source": [
        "<a href=\"https://colab.research.google.com/github/ppriyanshu26/Colab/blob/main/Tokenizaton.ipynb\" target=\"_parent\"><img src=\"https://colab.research.google.com/assets/colab-badge.svg\" alt=\"Open In Colab\"/></a>"
      ]
    },
    {
      "cell_type": "code",
      "execution_count": 29,
      "metadata": {
        "colab": {
          "base_uri": "https://localhost:8080/"
        },
        "id": "hLqhVhm-3xGD",
        "outputId": "66d22bd2-3f57-4ccc-81ea-8fd4fc8345c2"
      },
      "outputs": [
        {
          "output_type": "stream",
          "name": "stderr",
          "text": [
            "[nltk_data] Downloading package punkt_tab to /root/nltk_data...\n",
            "[nltk_data]   Package punkt_tab is already up-to-date!\n"
          ]
        }
      ],
      "source": [
        "# import modules\n",
        "\n",
        "import nltk\n",
        "nltk.download('punkt_tab')\n",
        "from nltk.tokenize import word_tokenize\n",
        "from nltk.tokenize import sent_tokenize\n",
        "from nltk.tokenize import RegexpTokenizer\n",
        "from nltk.tokenize import WhitespaceTokenizer\n",
        "from nltk.tokenize import TweetTokenizer"
      ]
    },
    {
      "cell_type": "code",
      "source": [
        "# Word Tokenize\n",
        "\n",
        "text = \"I love learning NLP! It's very interesting. I am P p\"\n",
        "tokens = word_tokenize(text)\n",
        "print(tokens)"
      ],
      "metadata": {
        "colab": {
          "base_uri": "https://localhost:8080/"
        },
        "id": "8c1gyEwM4H4u",
        "outputId": "bb2f52d7-5318-4031-c5dc-4a022b702148"
      },
      "execution_count": 30,
      "outputs": [
        {
          "output_type": "stream",
          "name": "stdout",
          "text": [
            "['I', 'love', 'learning', 'NLP', '!', 'It', \"'s\", 'very', 'interesting', '.', 'I', 'am', 'P', 'p']\n"
          ]
        }
      ]
    },
    {
      "cell_type": "code",
      "source": [
        "# Sentence Tokenize\n",
        "\n",
        "text = \"I love learning NLP! It's very interesting. I am P p\"\n",
        "tokens = sent_tokenize(text)\n",
        "print(tokens)"
      ],
      "metadata": {
        "colab": {
          "base_uri": "https://localhost:8080/"
        },
        "id": "8WuFLT1-4lTo",
        "outputId": "cf877a10-6426-4dd6-9de2-24b63d6df1c9"
      },
      "execution_count": 31,
      "outputs": [
        {
          "output_type": "stream",
          "name": "stdout",
          "text": [
            "['I love learning NLP!', \"It's very interesting.\", 'I am P p']\n"
          ]
        }
      ]
    },
    {
      "cell_type": "code",
      "source": [
        "# Regex Tokenize\n",
        "\n",
        "text = \"I love learning NLP! It's very interesting. I am P p\"\n",
        "tokenizer = RegexpTokenizer(r'\\w+')\n",
        "tokens = tokenizer.tokenize(text)\n",
        "print(tokens)"
      ],
      "metadata": {
        "colab": {
          "base_uri": "https://localhost:8080/"
        },
        "id": "4tzsFvXc42mP",
        "outputId": "6e9266c6-8863-4d8f-b6f2-825eb3928923"
      },
      "execution_count": 32,
      "outputs": [
        {
          "output_type": "stream",
          "name": "stdout",
          "text": [
            "['I', 'love', 'learning', 'NLP', 'It', 's', 'very', 'interesting', 'I', 'am', 'P', 'p']\n"
          ]
        }
      ]
    },
    {
      "cell_type": "code",
      "source": [
        "# Whitespace Tokenize\n",
        "\n",
        "text = \"I love learning NLP! It's very interesting. I am P p\"\n",
        "tokenizer = WhitespaceTokenizer()\n",
        "tokens = tokenizer.tokenize(text)\n",
        "print(tokens)"
      ],
      "metadata": {
        "colab": {
          "base_uri": "https://localhost:8080/"
        },
        "id": "PTl9U-2p5IK3",
        "outputId": "f750df12-42ab-4154-8ec8-c1ea48c8a989"
      },
      "execution_count": 33,
      "outputs": [
        {
          "output_type": "stream",
          "name": "stdout",
          "text": [
            "['I', 'love', 'learning', 'NLP!', \"It's\", 'very', 'interesting.', 'I', 'am', 'P', 'p']\n"
          ]
        }
      ]
    },
    {
      "cell_type": "code",
      "source": [
        "# Tweet Tokenize\n",
        "\n",
        "text = \"Hey @ppriyanshu26. I love the new #AI PROJECT! 😊\"\n",
        "tokenizer = TweetTokenizer()\n",
        "tokens = tokenizer.tokenize(text)\n",
        "print(tokens)"
      ],
      "metadata": {
        "colab": {
          "base_uri": "https://localhost:8080/"
        },
        "id": "Y1CFX7_v5f4q",
        "outputId": "c7ce1acc-c2ae-4b1c-b117-122001a59c1f"
      },
      "execution_count": 34,
      "outputs": [
        {
          "output_type": "stream",
          "name": "stdout",
          "text": [
            "['Hey', '@ppriyanshu26', '.', 'I', 'love', 'the', 'new', '#AI', 'PROJECT', '!', '😊']\n"
          ]
        }
      ]
    }
  ]
}