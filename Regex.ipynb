{
  "nbformat": 4,
  "nbformat_minor": 0,
  "metadata": {
    "colab": {
      "provenance": [],
      "authorship_tag": "ABX9TyMVYa7dSP1wwM9LKIFLuoH+",
      "include_colab_link": true
    },
    "kernelspec": {
      "name": "python3",
      "display_name": "Python 3"
    },
    "language_info": {
      "name": "python"
    }
  },
  "cells": [
    {
      "cell_type": "markdown",
      "metadata": {
        "id": "view-in-github",
        "colab_type": "text"
      },
      "source": [
        "<a href=\"https://colab.research.google.com/github/ppriyanshu26/Colab/blob/main/Regex.ipynb\" target=\"_parent\"><img src=\"https://colab.research.google.com/assets/colab-badge.svg\" alt=\"Open In Colab\"/></a>"
      ]
    },
    {
      "cell_type": "code",
      "execution_count": 1,
      "metadata": {
        "id": "DaYYYxDQ-HPl"
      },
      "outputs": [],
      "source": [
        "# import modules\n",
        "\n",
        "import re"
      ]
    },
    {
      "cell_type": "code",
      "source": [
        "# Find digits\n",
        "\n",
        "text = \"My number is 123 and pin is 4567\"\n",
        "pattern = r\"\\d+\"\n",
        "\n",
        "matches = re.findall(pattern, text)\n",
        "print(matches)"
      ],
      "metadata": {
        "id": "Ey6Vy6iJ-NLx",
        "colab": {
          "base_uri": "https://localhost:8080/"
        },
        "outputId": "6668f373-16a5-4ad0-b2fa-10d942e32e67"
      },
      "execution_count": 5,
      "outputs": [
        {
          "output_type": "stream",
          "name": "stdout",
          "text": [
            "['123', '4567']\n"
          ]
        }
      ]
    },
    {
      "cell_type": "code",
      "source": [
        "# Replace\n",
        "\n",
        "text = \"Replace  all spaces.\"\n",
        "pattern = r\"\\s+\"\n",
        "\n",
        "new_text = re.sub(pattern, \"-\", text)\n",
        "print(new_text)"
      ],
      "metadata": {
        "colab": {
          "base_uri": "https://localhost:8080/"
        },
        "id": "fQly-q9LeFSx",
        "outputId": "37081531-ef1c-4d84-80af-6dcf64a7575f"
      },
      "execution_count": 14,
      "outputs": [
        {
          "output_type": "stream",
          "name": "stdout",
          "text": [
            "Replace-all-spaces.\n"
          ]
        }
      ]
    },
    {
      "cell_type": "code",
      "source": [
        "# Email validation\n",
        "\n",
        "text = \"Contact me at priyanshu+123priyam@example26.ac.in\"\n",
        "pattern = r\"[a-zA-Z0-9._+]+@[a-zA-Z0-9.]+\\.[a-zA-Z]{2,}$\"\n",
        "\n",
        "matches = re.findall(pattern, text)\n",
        "print(matches)"
      ],
      "metadata": {
        "colab": {
          "base_uri": "https://localhost:8080/"
        },
        "id": "eqhfttC0e7i-",
        "outputId": "be4c2268-54bc-4d57-b4ee-20b49694669c"
      },
      "execution_count": 24,
      "outputs": [
        {
          "output_type": "stream",
          "name": "stdout",
          "text": [
            "['priyanshu+123priyam@example26.ac.in']\n"
          ]
        }
      ]
    }
  ]
}