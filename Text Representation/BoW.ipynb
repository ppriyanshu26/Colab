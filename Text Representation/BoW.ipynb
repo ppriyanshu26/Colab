{
  "nbformat": 4,
  "nbformat_minor": 0,
  "metadata": {
    "colab": {
      "provenance": [],
      "authorship_tag": "ABX9TyMoh7U1JJAaewD2/vE3VO6u",
      "include_colab_link": true
    },
    "kernelspec": {
      "name": "python3",
      "display_name": "Python 3"
    },
    "language_info": {
      "name": "python"
    }
  },
  "cells": [
    {
      "cell_type": "markdown",
      "metadata": {
        "id": "view-in-github",
        "colab_type": "text"
      },
      "source": [
        "<a href=\"https://colab.research.google.com/github/ppriyanshu26/Colab/blob/main/Text%20Representation/BoW.ipynb\" target=\"_parent\"><img src=\"https://colab.research.google.com/assets/colab-badge.svg\" alt=\"Open In Colab\"/></a>"
      ]
    },
    {
      "cell_type": "code",
      "execution_count": 7,
      "metadata": {
        "id": "Vdgn3Rz-35pR"
      },
      "outputs": [],
      "source": [
        "# Import modules\n",
        "\n",
        "import spacy\n",
        "from numpy import dot\n",
        "import pandas as pd\n",
        "from numpy.linalg import norm\n",
        "from sklearn.feature_extraction.text import CountVectorizer\n",
        "\n",
        "# Load spacy model\n",
        "nlp = spacy.load('en_core_web_sm')"
      ]
    },
    {
      "cell_type": "code",
      "source": [
        "# Documents\n",
        "\n",
        "doc1 = nlp(\"I like natural language processing.\")\n",
        "doc2 = nlp(\"Hi\")"
      ],
      "metadata": {
        "id": "skK-46Jg4G06"
      },
      "execution_count": 2,
      "outputs": []
    },
    {
      "cell_type": "code",
      "source": [
        "# Similarity\n",
        "sim = dot(doc1.vector, doc2.vector)/(norm(doc1.vector)*norm(doc2.vector))\n",
        "print(sim)"
      ],
      "metadata": {
        "colab": {
          "base_uri": "https://localhost:8080/"
        },
        "id": "oX0cvFmJ4UGx",
        "outputId": "c77c32c0-d376-41fa-e701-ab7b7d5cf7f2"
      },
      "execution_count": 3,
      "outputs": [
        {
          "output_type": "stream",
          "name": "stdout",
          "text": [
            "0.23092107\n"
          ]
        }
      ]
    },
    {
      "cell_type": "code",
      "source": [
        "# Sentences\n",
        "\n",
        "sentences = [\n",
        "    \"I love NLP\",\n",
        "    \"NLP is fun\",\n",
        "    \"I love coding\"\n",
        "]"
      ],
      "metadata": {
        "id": "PzgLZqup4j3G"
      },
      "execution_count": 5,
      "outputs": []
    },
    {
      "cell_type": "code",
      "source": [
        "# Vectorization\n",
        "\n",
        "vect = CountVectorizer()\n",
        "bow = vect.fit_transform(sentences)\n",
        "\n",
        "print(\"Vocabulary:\",vect.get_feature_names_out())\n",
        "print(\"Bag of Words:\\n\",bow.toarray())"
      ],
      "metadata": {
        "colab": {
          "base_uri": "https://localhost:8080/"
        },
        "id": "JKM5PrFw4uVm",
        "outputId": "c3af8c6f-6f4c-4f06-eb65-d7cab917e803"
      },
      "execution_count": 6,
      "outputs": [
        {
          "output_type": "stream",
          "name": "stdout",
          "text": [
            "Vocabulary: ['coding' 'fun' 'is' 'love' 'nlp']\n",
            "Bag of Words:\n",
            " [[0 0 0 1 1]\n",
            " [0 1 1 0 1]\n",
            " [1 0 0 1 0]]\n"
          ]
        }
      ]
    },
    {
      "cell_type": "code",
      "source": [
        "# Dataframe\n",
        "\n",
        "df = pd.DataFrame(bow.toarray(), columns=vect.get_feature_names_out())\n",
        "print(df)"
      ],
      "metadata": {
        "colab": {
          "base_uri": "https://localhost:8080/"
        },
        "id": "_JCedd0m5UIR",
        "outputId": "b49cb63b-33da-494b-ee7f-7b82e84b6847"
      },
      "execution_count": 8,
      "outputs": [
        {
          "output_type": "stream",
          "name": "stdout",
          "text": [
            "   coding  fun  is  love  nlp\n",
            "0       0    0   0     1    1\n",
            "1       0    1   1     0    1\n",
            "2       1    0   0     1    0\n"
          ]
        }
      ]
    }
  ]
}