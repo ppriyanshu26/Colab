{
  "nbformat": 4,
  "nbformat_minor": 0,
  "metadata": {
    "colab": {
      "provenance": [],
      "authorship_tag": "ABX9TyO7DGSLhobEtBDoF9yhJCq6",
      "include_colab_link": true
    },
    "kernelspec": {
      "name": "python3",
      "display_name": "Python 3"
    },
    "language_info": {
      "name": "python"
    }
  },
  "cells": [
    {
      "cell_type": "markdown",
      "metadata": {
        "id": "view-in-github",
        "colab_type": "text"
      },
      "source": [
        "<a href=\"https://colab.research.google.com/github/ppriyanshu26/Colab/blob/main/Numpy.ipynb\" target=\"_parent\"><img src=\"https://colab.research.google.com/assets/colab-badge.svg\" alt=\"Open In Colab\"/></a>"
      ]
    },
    {
      "cell_type": "code",
      "execution_count": 33,
      "metadata": {
        "id": "BZlBr73Pn-ky"
      },
      "outputs": [],
      "source": [
        "# Import numpy\n",
        "import numpy as np"
      ]
    },
    {
      "cell_type": "code",
      "source": [
        "# Creating arrays using list\n",
        "arr = np.array([1,2,3,4,5])\n",
        "print(arr)"
      ],
      "metadata": {
        "colab": {
          "base_uri": "https://localhost:8080/"
        },
        "id": "GwyLZ19toX1x",
        "outputId": "6a7fe0a6-1e10-4cba-8280-82e2e85b4fdd"
      },
      "execution_count": 34,
      "outputs": [
        {
          "output_type": "stream",
          "name": "stdout",
          "text": [
            "[1 2 3 4 5]\n"
          ]
        }
      ]
    },
    {
      "cell_type": "code",
      "source": [
        "# Dimensions of array\n",
        "print(\"Dimension:\",arr.ndim)\n",
        "\n",
        "# Shape of array\n",
        "print(\"Shape:\",arr.shape)\n",
        "\n",
        "# Size of array\n",
        "print(\"Size:\",arr.size)\n",
        "\n",
        "# Data type of array\n",
        "print(\"Data type:\",arr.dtype)"
      ],
      "metadata": {
        "colab": {
          "base_uri": "https://localhost:8080/"
        },
        "id": "7SMryT8CpVs8",
        "outputId": "7e7869a5-1def-4f1d-85e7-f37fa231886f"
      },
      "execution_count": 35,
      "outputs": [
        {
          "output_type": "stream",
          "name": "stdout",
          "text": [
            "Dimension: 1\n",
            "Shape: (5,)\n",
            "Size: 5\n",
            "Data type: int64\n"
          ]
        }
      ]
    },
    {
      "cell_type": "code",
      "source": [
        "# 2D Numpy Array\n",
        "arr = np.array([[1,2],[3,4]])\n",
        "print(arr)"
      ],
      "metadata": {
        "colab": {
          "base_uri": "https://localhost:8080/"
        },
        "id": "h1pYAGGNxrmL",
        "outputId": "2f151bf3-7f4a-4537-d48c-78c8a4f8c8b2"
      },
      "execution_count": 36,
      "outputs": [
        {
          "output_type": "stream",
          "name": "stdout",
          "text": [
            "[[1 2]\n",
            " [3 4]]\n"
          ]
        }
      ]
    },
    {
      "cell_type": "code",
      "source": [
        "# Creating array using functions\n",
        "\n",
        "print(\"Arange:\\n\",np.arange(1,10,2))\n",
        "\n",
        "print(\"\\nLinspace:\\n\",np.linspace(0,1,5))\n",
        "\n",
        "print(\"\\nZeros:\\n\",np.zeros((2,3)))\n",
        "\n",
        "print(\"\\nOnes:\\n\",np.ones((2,3)))\n",
        "\n",
        "print(\"\\nEye:\\n\",np.eye(3, dtype=int))"
      ],
      "metadata": {
        "colab": {
          "base_uri": "https://localhost:8080/"
        },
        "id": "4kgAVw96yLOV",
        "outputId": "21d61605-a1bc-41c1-b9d6-b2efa5ab4b80"
      },
      "execution_count": 37,
      "outputs": [
        {
          "output_type": "stream",
          "name": "stdout",
          "text": [
            "Arange:\n",
            " [1 3 5 7 9]\n",
            "\n",
            "Linspace:\n",
            " [0.   0.25 0.5  0.75 1.  ]\n",
            "\n",
            "Zeros:\n",
            " [[0. 0. 0.]\n",
            " [0. 0. 0.]]\n",
            "\n",
            "Ones:\n",
            " [[1. 1. 1.]\n",
            " [1. 1. 1.]]\n",
            "\n",
            "Eye:\n",
            " [[1 0 0]\n",
            " [0 1 0]\n",
            " [0 0 1]]\n"
          ]
        }
      ]
    },
    {
      "cell_type": "code",
      "source": [
        "# Indexing\n",
        "a = np.array([[1,2,3],[4,5,6]])\n",
        "print(a[0,2])\n",
        "\n",
        "# Slicing\n",
        "print(a[1,0:1])"
      ],
      "metadata": {
        "colab": {
          "base_uri": "https://localhost:8080/"
        },
        "id": "aPVc4vKAzw0t",
        "outputId": "317014dd-a67a-4ec2-b05c-4738ef6e6038"
      },
      "execution_count": 38,
      "outputs": [
        {
          "output_type": "stream",
          "name": "stdout",
          "text": [
            "3\n",
            "[4]\n"
          ]
        }
      ]
    },
    {
      "cell_type": "code",
      "source": [
        "#Arithmetic Operations\n",
        "\n",
        "a = np.array([1,2,3])\n",
        "b = np.array([4,5,6])\n",
        "print(a+b)\n",
        "print(a-b)\n",
        "print(a*b)\n",
        "print(a**2)\n",
        "print(b**3)"
      ],
      "metadata": {
        "colab": {
          "base_uri": "https://localhost:8080/"
        },
        "id": "tuSbf8fv0XI_",
        "outputId": "1649642c-9bb4-41f8-9a8a-214b24f09a9e"
      },
      "execution_count": 39,
      "outputs": [
        {
          "output_type": "stream",
          "name": "stdout",
          "text": [
            "[5 7 9]\n",
            "[-3 -3 -3]\n",
            "[ 4 10 18]\n",
            "[1 4 9]\n",
            "[ 64 125 216]\n"
          ]
        }
      ]
    },
    {
      "cell_type": "code",
      "source": [
        "# Comparison Operationns\n",
        "\n",
        "a = np.array([1,2,3])\n",
        "print(a>1); print(a==1); print(a<1)"
      ],
      "metadata": {
        "colab": {
          "base_uri": "https://localhost:8080/"
        },
        "id": "qL_1irbe1Bin",
        "outputId": "526eeb76-d7d3-459b-e07c-91281f8e5017"
      },
      "execution_count": 42,
      "outputs": [
        {
          "output_type": "stream",
          "name": "stdout",
          "text": [
            "[False  True  True]\n",
            "[ True False False]\n",
            "[False False False]\n"
          ]
        }
      ]
    },
    {
      "cell_type": "code",
      "source": [
        "# Universal Functions\n",
        "\n",
        "print(\"\\nSquare Root:\\n\",np.sqrt([1,4,9]))\n",
        "\n",
        "print(\"\\nExponential:\\n\",np.exp([1,2,3]))\n",
        "\n",
        "print(\"\\nSine Values:\\n\",np.sin([0, np.pi/2]))"
      ],
      "metadata": {
        "colab": {
          "base_uri": "https://localhost:8080/"
        },
        "id": "KSDikjwz1RPn",
        "outputId": "36495495-118c-4c19-c562-75b13e95c5f7"
      },
      "execution_count": 46,
      "outputs": [
        {
          "output_type": "stream",
          "name": "stdout",
          "text": [
            "\n",
            "Square Root:\n",
            " [1. 2. 3.]\n",
            "\n",
            "Exponential:\n",
            " [ 2.71828183  7.3890561  20.08553692]\n",
            "\n",
            "Sine Values:\n",
            " [0. 1.]\n"
          ]
        }
      ]
    },
    {
      "cell_type": "code",
      "source": [
        "# Broadcasting\n",
        "\n",
        "a = np.array([[1],[2],[3]])\n",
        "b = np.array([4,5,6])\n",
        "print(a+b)"
      ],
      "metadata": {
        "colab": {
          "base_uri": "https://localhost:8080/"
        },
        "id": "iUAujSPZ2Dbx",
        "outputId": "82522a01-1995-4a69-decd-d647618f0580"
      },
      "execution_count": 47,
      "outputs": [
        {
          "output_type": "stream",
          "name": "stdout",
          "text": [
            "[[5 6 7]\n",
            " [6 7 8]\n",
            " [7 8 9]]\n"
          ]
        }
      ]
    },
    {
      "cell_type": "code",
      "source": [
        "# Reshaping\n",
        "\n",
        "a = np.array([[1,2],[3,4],[5,6]])\n",
        "print(a.reshape(2,3))\n",
        "\n",
        "# Flattening\n",
        "print(a.flatten())"
      ],
      "metadata": {
        "colab": {
          "base_uri": "https://localhost:8080/"
        },
        "id": "95oxlvMo2cWK",
        "outputId": "040595dd-2cc2-420f-842f-4c5d9994b93a"
      },
      "execution_count": 53,
      "outputs": [
        {
          "output_type": "stream",
          "name": "stdout",
          "text": [
            "[[1 2 3]\n",
            " [4 5 6]]\n",
            "[1 2 3 4 5 6]\n"
          ]
        }
      ]
    },
    {
      "cell_type": "code",
      "source": [
        "# Statistics\n",
        "\n",
        "a = np.array([[1,2,3],[4,5,6]])\n",
        "print(\"Sum:\",np.sum(a))\n",
        "\n",
        "print(\"Max:\",np.max(a))\n",
        "\n",
        "print(\"Min:\",np.min(a))\n",
        "\n",
        "print(\"Mean:\",np.mean(a))\n",
        "\n",
        "print(\"Median:\",np.median(a))\n",
        "\n",
        "print(\"Variance:\",np.var(a))\n",
        "\n",
        "print(\"Standard Deviation:\",np.std(a))"
      ],
      "metadata": {
        "colab": {
          "base_uri": "https://localhost:8080/"
        },
        "id": "pqt0_j552yy3",
        "outputId": "31117461-fd99-49f3-94d6-25a7192641de"
      },
      "execution_count": 57,
      "outputs": [
        {
          "output_type": "stream",
          "name": "stdout",
          "text": [
            "Sum: 21\n",
            "Max: 6\n",
            "Min: 1\n",
            "Mean: 3.5\n",
            "Median: 3.5\n",
            "Variance: 2.9166666666666665\n",
            "Standard Deviation: 1.707825127659933\n"
          ]
        }
      ]
    },
    {
      "cell_type": "code",
      "source": [
        "# Dot product\n",
        "\n",
        "a = np.array([[1,2],[3,4]])\n",
        "b = np.array([[5,6],[7,8]])\n",
        "\n",
        "print(a.dot(b))"
      ],
      "metadata": {
        "colab": {
          "base_uri": "https://localhost:8080/"
        },
        "id": "k8cVWwhb3v3C",
        "outputId": "cea846ea-2cd7-4a08-d4ab-caceefe0263f"
      },
      "execution_count": 58,
      "outputs": [
        {
          "output_type": "stream",
          "name": "stdout",
          "text": [
            "[[19 22]\n",
            " [43 50]]\n"
          ]
        }
      ]
    },
    {
      "cell_type": "code",
      "source": [
        "# Random function\n",
        "\n",
        "np.random.seed()\n",
        "print(np.random.rand(3,4))\n",
        "print()\n",
        "print(np.random.randint(1,10,size=(5,4)))"
      ],
      "metadata": {
        "colab": {
          "base_uri": "https://localhost:8080/"
        },
        "id": "GTbP_CrA4DYP",
        "outputId": "5f589cbd-5b18-4b8b-d9db-b36b9660cb01"
      },
      "execution_count": 82,
      "outputs": [
        {
          "output_type": "stream",
          "name": "stdout",
          "text": [
            "[[0.65178023 0.71122749 0.62179936 0.64773114]\n",
            " [0.36877603 0.01631088 0.06065944 0.32410399]\n",
            " [0.88735606 0.60997521 0.82273793 0.00282336]]\n",
            "\n",
            "[[9 5 2 2]\n",
            " [4 1 6 4]\n",
            " [5 9 9 8]\n",
            " [3 8 8 5]\n",
            " [5 7 9 9]]\n"
          ]
        }
      ]
    }
  ]
}